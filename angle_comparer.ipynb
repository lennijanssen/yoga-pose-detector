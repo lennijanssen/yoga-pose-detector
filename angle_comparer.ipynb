{
 "cells": [
  {
   "cell_type": "markdown",
   "metadata": {},
   "source": [
    "# Angle Comparer Exploration\n",
    "\n",
    "This notebook looks at angle-comparing methods from landmark outputs. \\\n",
    "Most of the code below is influenced by angl_comparer.py used for the Hatha Project.\n",
    "\n",
    "### Notes\n",
    "- (Enhancement) Is it worth considering **important angles** instead of all angles, based on a predetermined list for each distinct pose? Some poses may have important angles more so than other poses.\n",
    "- (NN) The z-axis readouts are all over the place. 3D plots have z-axis points which are anatomically impossible. Throw out z-axis for NN and see if this improves our NN.\n",
    "\n",
    "### Poses and Landmarks\n",
    "<img src=\"landmark_description.png\" width=\"400\"/>\n"
   ]
  },
  {
   "cell_type": "markdown",
   "metadata": {},
   "source": [
    "## ⬇️ Imports"
   ]
  },
  {
   "cell_type": "code",
   "execution_count": 87,
   "metadata": {},
   "outputs": [],
   "source": [
    "import pandas as pd\n",
    "import plotly.express as px\n",
    "import matplotlib.pyplot as plt"
   ]
  },
  {
   "cell_type": "markdown",
   "metadata": {},
   "source": [
    "## 📖 Load Data from CSV"
   ]
  },
  {
   "cell_type": "code",
   "execution_count": 105,
   "metadata": {},
   "outputs": [
    {
     "data": {
      "text/plain": [
       "'selected_poses/cobra/Cobra_Pose_or_Bhujangasana__3_69.jpg'"
      ]
     },
     "execution_count": 105,
     "metadata": {},
     "output_type": "execute_result"
    }
   ],
   "source": [
    "df = pd.read_csv(\"pose_landmark_data.csv\")\n",
    "df.iloc[-1].filename"
   ]
  },
  {
   "cell_type": "markdown",
   "metadata": {},
   "source": [
    "## 👀 Simple function to plot a given row in 2D/3D using matplotlib/plotly\n",
    "This should be useful for varification and validation.\n",
    "It appears that the y-coordinates are upside down for some reason, however this plotting **passes the sanity test**. \\\n",
    "The data output looks good for X and Y, however Z axis looks like its a shot in the dark. Some 3D plots are appearing to have wonky Z-axis, so it might be best to throw this out for our NN."
   ]
  },
  {
   "cell_type": "code",
   "execution_count": 103,
   "metadata": {},
   "outputs": [
    {
     "data": {
      "image/png": "[encoded data removed]",
      "text/plain": [
       "<Figure size 640x480 with 1 Axes>"
      ]
     },
     "metadata": {},
     "output_type": "display_data"
    }
   ],
   "source": [
    "df1 = df.iloc[-1]\n",
    "X = df1[[col for col in df.columns if col.endswith(\"_x\")]].values\n",
    "Y = df1[[col for col in df.columns if col.endswith(\"_y\")]].values\n",
    "Z = df1[[col for col in df.columns if col.endswith(\"_z\")]].values\n",
    "\n",
    "coordinates = pd.DataFrame({\"X\": X, \"Y\": Y, \"Z\":Z})\n",
    "\n",
    "plt.scatter(coordinates[\"X\"], coordinates[\"Y\"])\n",
    "plt.xlim(0,1)\n",
    "plt.ylim(1,0)\n",
    "plt.axis(\"equal\")\n",
    "\n",
    "plt.show()"
   ]
  },
  {
   "cell_type": "code",
   "execution_count": null,
   "metadata": {},
   "outputs": [],
   "source": []
  },
  {
   "cell_type": "code",
   "execution_count": null,
   "metadata": {},
   "outputs": [],
   "source": []
  }
 ],
 "metadata": {
  "kernelspec": {
   "display_name": "yoga-pose-detector",
   "language": "python",
   "name": "python3"
  },
  "language_info": {
   "codemirror_mode": {
    "name": "ipython",
    "version": 3
   },
   "file_extension": ".py",
   "mimetype": "text/x-python",
   "name": "python",
   "nbconvert_exporter": "python",
   "pygments_lexer": "ipython3",
   "version": "3.10.6"
  }
 },
 "nbformat": 4,
 "nbformat_minor": 2
}
